{
 "cells": [
  {
   "cell_type": "code",
   "execution_count": 2,
   "id": "4bbceb2e",
   "metadata": {},
   "outputs": [
    {
     "name": "stdout",
     "output_type": "stream",
     "text": [
      "Provide D: 100,150,180\n",
      "['100', '150', '180']\n",
      "[18, 22, 24]\n"
     ]
    }
   ],
   "source": [
    "'''Question 1:\n",
    "Write a program that calculates and prints the value according to the given formula:\n",
    "Q = Square root of [(2 * C * D)/H]\n",
    "Following are the fixed values of C and H:\n",
    "C is 50. H is 30.\n",
    "D is the variable whose values should be input to your program in a comma-separated\n",
    "sequence.\n",
    "Example\n",
    "Let us assume the following comma separated input sequence is given to the program:\n",
    "100,150,180\n",
    "The output of the program should be:\n",
    "18,22,24'''\n",
    "\n",
    "import math\n",
    "number = input(\"Provide D: \")\n",
    "number = number.split(',')\n",
    "print(number)\n",
    "\n",
    "l1 = []\n",
    "for D in number:\n",
    "    Q = math.sqrt(2*50*int(D)/30)\n",
    "    Q = round(Q) #---> It will roundoff the outcoming values of Q\n",
    "    l1.append(Q)\n",
    "print(l1)\n",
    "    "
   ]
  },
  {
   "cell_type": "code",
   "execution_count": null,
   "id": "ed382b75",
   "metadata": {},
   "outputs": [],
   "source": []
  },
  {
   "cell_type": "code",
   "execution_count": 3,
   "id": "17280cfe",
   "metadata": {},
   "outputs": [
    {
     "name": "stdout",
     "output_type": "stream",
     "text": [
      "[[0, 0, 0, 0, 0], [0, 1, 2, 3, 4], [0, 2, 4, 6, 8]]\n"
     ]
    }
   ],
   "source": [
    "'''Question 2:\n",
    "Write a program which takes 2 digits, X,Y as input and generates a 2-dimensional array. The\n",
    "element value in the i-th row and j-th column of the array should be i*j.\n",
    "Note: i = 0,1,....., X-1\n",
    "      j = 0,1,....., Y-1\n",
    "Example\n",
    "Suppose the following inputs are given to the program:\n",
    "3,5\n",
    "Then, the output of the program should be:\n",
    "[[0, 0, 0, 0, 0], [0, 1, 2, 3, 4], [0, 2, 4, 6, 8]]'''\n",
    "\n",
    "X = 3\n",
    "Y = 5\n",
    "list = [[0 for col in range(Y)] for row in range(X)]\n",
    "\n",
    "for row in range(X):\n",
    "    for col in range(Y):\n",
    "        list[row][col]= row*col\n",
    "print(list)"
   ]
  },
  {
   "cell_type": "code",
   "execution_count": 4,
   "id": "41c5a0cc",
   "metadata": {},
   "outputs": [
    {
     "name": "stdout",
     "output_type": "stream",
     "text": [
      "Enter the css: without,hello,bag,world\n",
      "bag,hello,without,world\n"
     ]
    }
   ],
   "source": [
    "'''Question 3:\n",
    "Write a program that accepts a comma separated sequence of words as input and prints the\n",
    "words in a comma-separated sequence after sorting them alphabetically.\n",
    "Suppose the following input is supplied to the program:\n",
    "without,hello,bag,world\n",
    "Then, the output should be:\n",
    "bag,hello,without,world'''\n",
    "\n",
    "css = input(\"Enter the css: \")\n",
    "spl = css.split(\",\")\n",
    "spl.sort()\n",
    "print(','.join(spl))\n"
   ]
  },
  {
   "cell_type": "code",
   "execution_count": 10,
   "id": "2353939f",
   "metadata": {},
   "outputs": [
    {
     "name": "stdout",
     "output_type": "stream",
     "text": [
      "Enter a sequence:\n",
      "hello world and practice makes perfect and hello world again\n",
      "again and hello makes perfect practice world\n"
     ]
    }
   ],
   "source": [
    "'''Question 4:\n",
    "Write a program that accepts a sequence of whitespace separated words as input and prints\n",
    "the words after removing all duplicate words and sorting them alphanumerically.\n",
    "Suppose the following input is supplied to the program:\n",
    "hello world and practice makes perfect and hello world again\n",
    "Then, the output should be:\n",
    "again and hello makes perfect practice world\n",
    "'''\n",
    "seq1 = input(\"Enter a sequence:\\n\")\n",
    "word = seq1.split(\" \")\n",
    "emp_list = []\n",
    "for i in word:\n",
    "    if i not in emp_list:\n",
    "        emp_list.append(i)\n",
    "emp_list.sort()\n",
    "seq2 = ' '.join(emp_list)\n",
    "print(seq2)\n",
    "        \n",
    "\n"
   ]
  },
  {
   "cell_type": "code",
   "execution_count": 14,
   "id": "f55c2f47",
   "metadata": {},
   "outputs": [
    {
     "name": "stdout",
     "output_type": "stream",
     "text": [
      "Enter a sentence:\n",
      "hello world! 123\n",
      "DIGITS = 3\n",
      "LETTERS = 10\n"
     ]
    }
   ],
   "source": [
    "'''Question 5:\n",
    "Write a program that accepts a sentence and calculate the number of letters and digits.\n",
    "Suppose the following input is supplied to the program:\n",
    "hello world! 123\n",
    "Then, the output should be:\n",
    "LETTERS 10\n",
    "DIGITS 3'''\n",
    "\n",
    "sen = input(\"Enter a sentence:\\n\")\n",
    "LETTERS = 0\n",
    "DIGITS = 0\n",
    "list = []\n",
    "for i in sen:\n",
    "    if i.isdigit():\n",
    "        DIGITS += 1\n",
    "    elif i.isalpha():\n",
    "        LETTERS += 1\n",
    "    else:\n",
    "        pass\n",
    "print(f\"DIGITS = {DIGITS}\")\n",
    "print(f\"LETTERS = {LETTERS}\")\n"
   ]
  },
  {
   "cell_type": "code",
   "execution_count": 35,
   "id": "66e074c5",
   "metadata": {},
   "outputs": [
    {
     "name": "stdout",
     "output_type": "stream",
     "text": [
      "Enter a password:\n",
      "ABd1234@1,a F1#,2w3E*,2We3345\n",
      "ABd1234@1\n"
     ]
    }
   ],
   "source": [
    "'''Question 6:\n",
    "A website requires the users to input username and password to register. Write a program to\n",
    "check the validity of password input by users.\n",
    "Following are the criteria for checking the password:\n",
    "1. At least 1 letter between [a-z]\n",
    "2. At least 1 number between [0-9]\n",
    "1. At least 1 letter between [A-Z]\n",
    "3. At least 1 character from [$#@]\n",
    "4. Minimum length of transaction password: 6\n",
    "5. Maximum length of transaction password: 12\n",
    "Your program should accept a sequence of comma separated passwords and will check them\n",
    "according to the above criteria. Passwords that match the criteria are to be printed, each\n",
    "separated by a comma.\n",
    "Example\n",
    "If the following passwords are given as input to the program:\n",
    "ABd1234@1,a F1#,2w3E*,2We3345\n",
    "Then, the output of the program should be:\n",
    "ABd1234@1\n",
    "'''\n",
    "\n",
    "import re\n",
    "password = input(\"Enter a password:\\n\")\n",
    "password = password.split(\",\")\n",
    "accepted_pass = []\n",
    "for i in password:\n",
    "    if len(i)<6 or len(i)>12:\n",
    "        continue\n",
    "    elif not re.search(\"[a-z]\", i):\n",
    "        continue\n",
    "    elif not re.search(\"[A-Z]\", i):\n",
    "        continue\n",
    "    elif not re.search(\"[0-9]\", i):\n",
    "        continue\n",
    "    elif not re.search(\"[!@#$%^&]\",i):\n",
    "        continue\n",
    "    else:\n",
    "        accepted_pass.append(i)\n",
    "print((\" \").join(accepted_pass))\n"
   ]
  },
  {
   "cell_type": "code",
   "execution_count": 36,
   "id": "43cea33b",
   "metadata": {},
   "outputs": [
    {
     "data": {
      "text/plain": [
       "'Question 7:\\nDefine a class with a generator which can iterate the numbers, which are divisible by\\n7, between a given range 0 and n.'"
      ]
     },
     "execution_count": 36,
     "metadata": {},
     "output_type": "execute_result"
    }
   ],
   "source": [
    "# TO DO\n",
    "'''Question 7:\n",
    "Define a class with a generator which can iterate the numbers, which are divisible by\n",
    "7, between a given range 0 and n.'''"
   ]
  },
  {
   "cell_type": "code",
   "execution_count": 58,
   "id": "77c794fb",
   "metadata": {},
   "outputs": [
    {
     "name": "stdout",
     "output_type": "stream",
     "text": [
      "Type in: New to Python or choosing between Python 2 and Python 3? Read Python 2 or Python 3.\n",
      "[('New', 1), ('Python', 5), ('Read', 1), ('and', 1), ('between', 1), ('choosing', 1), ('or', 2), ('to', 1)]\n",
      "New 1\n",
      "Python 5\n",
      "Read 1\n",
      "and 1\n",
      "between 1\n",
      "choosing 1\n",
      "or 2\n",
      "to 1\n"
     ]
    }
   ],
   "source": [
    "'''Question 8:\n",
    "Write a program to compute the frequency of the words from the input. The output\n",
    "should output after sorting the key alphanumerically.\n",
    "Suppose the following input is supplied to the program:\n",
    "New to Python or choosing between Python 2 and Python 3? Read Python 2 or\n",
    "Python 3.\n",
    "Then, the output should be:\n",
    "2:2\n",
    "3.:1\n",
    "3?:1\n",
    "New:1\n",
    "Python:5\n",
    "Read:1\n",
    "and:1\n",
    "between:1\n",
    "choosing:1\n",
    "or:2\n",
    "to:1\n",
    "'''\n",
    "import operator\n",
    "\n",
    "text_line = input(\"Type in: \")\n",
    "\n",
    "freq_dict = {}\n",
    "\n",
    "for i in text_line.split(' '):\n",
    "    if i.isalpha():  # ---> The isalpha() methods means if all characters in the string are alphabets or not.\n",
    "        if i not in freq_dict:\n",
    "            freq_dict[i] = 1\n",
    "        elif i in freq_dict:\n",
    "            freq_dict[i] = freq_dict[i] + 1\n",
    "    else:\n",
    "        pass\n",
    "\n",
    "sorted_freq_dict = sorted(freq_dict.items(), key = operator.itemgetter(0))\n",
    "print(sorted_freq_dict)\n",
    "\n",
    "for i in sorted_freq_dict:\n",
    "    print(i[0], i[1])"
   ]
  },
  {
   "cell_type": "code",
   "execution_count": 10,
   "id": "12984862",
   "metadata": {},
   "outputs": [
    {
     "name": "stdout",
     "output_type": "stream",
     "text": [
      "I Play Hockey\n",
      "I Play Football\n",
      "I Love Hockey\n",
      "I Love Football\n",
      "You Play Hockey\n",
      "You Play Football\n",
      "You Love Hockey\n",
      "You Love Football\n"
     ]
    }
   ],
   "source": [
    "'''\n",
    "Question 9:\n",
    "Please write a program to generate all sentences where subject is in [&quot;I&quot;, &quot;You&quot;] and\n",
    "verb is in [&quot;Play&quot;, &quot;Love&quot;] and the object is in [&quot;Hockey&quot;,&quot;Football&quot;].'''\n",
    "\n",
    "subject = [\"I\", \"You\"]\n",
    "verb = [\"Play\", \"Love\"]\n",
    "object = [\"Hockey\", \"Football\"]\n",
    "\n",
    "def gen_sentence(subject,verb,object):\n",
    "    for i in subject:\n",
    "        for j in verb:\n",
    "            for k in object:\n",
    "                print(i , j, k)\n",
    "subject = [\"I\", \"You\"]\n",
    "verb = [\"Play\", \"Love\"]\n",
    "object = [\"Hockey\", \"Football\"]\n",
    "gen_sentence(subject,verb,object)"
   ]
  },
  {
   "cell_type": "code",
   "execution_count": 16,
   "id": "b9d4d1c1",
   "metadata": {},
   "outputs": [
    {
     "name": "stdout",
     "output_type": "stream",
     "text": [
      "48\n",
      "23\n",
      "48\n"
     ]
    }
   ],
   "source": [
    "'''Question 10:\n",
    "Please write a program to compress and decompress the string \"hello world!hello\n",
    "world!hello world!hello world!\".'''\n",
    "\n",
    "import zlib  #---> zlib is a python library & it is basically used for data compressing byte like object.\n",
    "s = b\"hello world!hello world!hello world!hello world!\"  #---> b is for creating a byte object.\n",
    "print(len(s))\n",
    "\n",
    "c = zlib.compress(s)\n",
    "print(len(c))\n",
    "\n",
    "d = zlib.decompress(c)\n",
    "print(len(d))\n",
    "\n",
    "\n",
    "\n"
   ]
  },
  {
   "cell_type": "code",
   "execution_count": 13,
   "id": "13c7817a",
   "metadata": {},
   "outputs": [
    {
     "name": "stdout",
     "output_type": "stream",
     "text": [
      "Sorted list\n",
      " [1, 2, 5, 6, 7, 9, 12]\n"
     ]
    },
    {
     "data": {
      "text/plain": [
       "5"
      ]
     },
     "execution_count": 13,
     "metadata": {},
     "output_type": "execute_result"
    }
   ],
   "source": [
    "'''Question 11:\n",
    "Please write a binary search function which searches an item in a sorted list. The\n",
    "function should return the index of element to be searched in the list.\n",
    "'''\n",
    "\n",
    "l = [2, 5, 9, 1, 7, 6, 12]\n",
    "l.sort()\n",
    "print(f\"Sorted list\\n {l}\")\n",
    "def search_fxn(a):\n",
    "    for i in l:\n",
    "        if i == a:\n",
    "            return l.index(a)\n",
    "search_fxn(9)\n"
   ]
  },
  {
   "cell_type": "code",
   "execution_count": 19,
   "id": "2407650b",
   "metadata": {},
   "outputs": [
    {
     "name": "stdout",
     "output_type": "stream",
     "text": [
      "Enter a number: 100\n",
      "[0, 35, 70]\n"
     ]
    }
   ],
   "source": [
    "'''Question 12:\n",
    "Please write a program using generator to print the numbers which can be divisible by 5 and\n",
    "7 between 0 and n in comma separated form while n is input by console.\n",
    "Example:\n",
    "If the following n is given as input to the program:\n",
    "100\n",
    "Then, the output of the program should be:\n",
    "0,35,70'''\n",
    "\n",
    "n = int(input(\"Enter a number: \"))\n",
    "list = []\n",
    "for i in range(0,n):\n",
    "    if i==0:\n",
    "        list.append(i)\n",
    "    elif (i%5 == 0) and (i%7 == 0):\n",
    "        list.append(i)\n",
    "    else:\n",
    "        continue\n",
    "print(list)"
   ]
  },
  {
   "cell_type": "code",
   "execution_count": 33,
   "id": "2ca8dbc7",
   "metadata": {},
   "outputs": [
    {
     "name": "stdout",
     "output_type": "stream",
     "text": [
      "Enter a number: 30\n",
      "[2, 3, 5, 7, 11, 13, 17, 19, 23, 29]\n"
     ]
    }
   ],
   "source": [
    "'''Question 13:\n",
    "Please write a program using generator to print the prime numbers between 0 and n in comma\n",
    "separated form while n is input by console.\n",
    "Example:\n",
    "If the following n is given as input to the program:\n",
    "30\n",
    "Then, the output of the program should be:\n",
    "2, 3, 5, 7, 11, 13, 17, 19, 23, 29\n",
    "'''\n",
    "\n",
    "n = int(input(\"Enter a number: \"))\n",
    "list = []\n",
    "for j in range(2,n):\n",
    "    for i in range(2,j):\n",
    "        if j%i ==0:\n",
    "            break\n",
    "        \n",
    "    else:\n",
    "        list.append(j)\n",
    "print(list)\n",
    "    \n",
    "        "
   ]
  },
  {
   "cell_type": "code",
   "execution_count": 35,
   "id": "a9ccde38",
   "metadata": {},
   "outputs": [
    {
     "name": "stdout",
     "output_type": "stream",
     "text": [
      "Enter the number: 10\n",
      "[0, 2, 4, 6, 8, 10]\n"
     ]
    }
   ],
   "source": [
    "'''Question 14:\n",
    "Please write a program using generator to print the even numbers between 0 and n in comma\n",
    "separated form while n is input by console.\n",
    "Example:\n",
    "If the following n is given as input to the program:\n",
    "10\n",
    "Then, the output of the program should be:\n",
    "0,2,4,6,8,10'''\n",
    "\n",
    "n = int(input(\"Enter the number: \"))\n",
    "list = []\n",
    "for i in range(0,n+1):\n",
    "    if i%2 ==0:\n",
    "        list.append(i)\n",
    "    else:\n",
    "        continue\n",
    "print(list)\n",
    "        "
   ]
  },
  {
   "cell_type": "code",
   "execution_count": 47,
   "id": "f49a2f77",
   "metadata": {},
   "outputs": [
    {
     "name": "stdout",
     "output_type": "stream",
     "text": [
      "Enter a number: 7\n",
      "[0, 1, 1, 2, 3, 5, 8, 13]\n"
     ]
    }
   ],
   "source": [
    "'''question 15:\n",
    "The Fibonacci Sequence is computed based on the following formula:\n",
    "f(n)=0 if n=0\n",
    "f(n)=1 if n=1\n",
    "f(n)=f(n-1)+f(n-2) if n>1\n",
    "Please write a program using list comprehension to print the Fibonacci Sequence in comma\n",
    "separated form with a given n input by console.\n",
    "Example:\n",
    "If the following n is given as input to the program:\n",
    "7\n",
    "Then, the output of the program should be:\n",
    "0,1,1,2,3,5,8,13\n",
    "'''\n",
    "n = int(input(\"Enter a number: \"))\n",
    "list = []\n",
    "a = 0\n",
    "b = 1\n",
    "for i in range(0,n+1):\n",
    "    if i < 0:\n",
    "        print(\"Incorrect input\")\n",
    "    elif i == 0:\n",
    "        list.append(a)\n",
    "    elif i == 1:\n",
    "        list.append(b)\n",
    "    elif i>1:\n",
    "        c = a + b\n",
    "        a = b\n",
    "        b = c\n",
    "        list.append(b)\n",
    "    else:\n",
    "        continue\n",
    " \n",
    "print(list)\n"
   ]
  },
  {
   "cell_type": "code",
   "execution_count": 52,
   "id": "0a1ed9e8",
   "metadata": {},
   "outputs": [
    {
     "name": "stdout",
     "output_type": "stream",
     "text": [
      "The value of n is: 9\n"
     ]
    },
    {
     "data": {
      "text/plain": [
       "34"
      ]
     },
     "execution_count": 52,
     "metadata": {},
     "output_type": "execute_result"
    }
   ],
   "source": [
    "'''Question 16:\n",
    "Please write a function to write the nth fibonacci number.\n",
    "'''\n",
    "\n",
    "n = int(input(\"The value of n is: \"))\n",
    "def fibonacci(n):\n",
    "    a = 0\n",
    "    b = 1\n",
    "    if n < 0:\n",
    "        print(\"Incorrect input\")\n",
    "    elif n == 0:\n",
    "        return a\n",
    "    elif n == 1:\n",
    "        return b\n",
    "    else:\n",
    "        for i in range(2,n+1):\n",
    "            c = a + b\n",
    "            a = b\n",
    "            b = c\n",
    "        return b\n",
    "fibonacci(n)"
   ]
  },
  {
   "cell_type": "code",
   "execution_count": 69,
   "id": "078b7eec",
   "metadata": {},
   "outputs": [
    {
     "name": "stdout",
     "output_type": "stream",
     "text": [
      "['john', 'nitin', 'rajat']\n",
      "['google', 'facebook', 'ford']\n"
     ]
    }
   ],
   "source": [
    "'''Question 17:\n",
    "Assuming that we have some email addresses in the \"username@companyname.com\" format,\n",
    "please write program to print the user name of a given email address. Both user names and\n",
    "company names are composed of letters only.\n",
    "Example:\n",
    "If the following email address is given as input to the program:\n",
    "john@google.com\n",
    "Then, the output of the program should be:\n",
    "john\n",
    "'''\n",
    "import re  #--->  re(Regular Expression), is a sequence of characters that forms a search pattern.\n",
    "\n",
    "email = \"john@google.com nitin@facebook.com rajat@ford.com\"\n",
    "pattern = \"(\\w+)@\\w+.com\"\n",
    "ans = re.findall(pattern,email)  #--->findall() means finds all the matches and returns them as a list of strings, with each string representing one match.\n",
    "pattern2 = \"\\w+@(\\w+).com\"\n",
    "ans2 = re.findall(pattern2,email)\n",
    "print(ans)\n",
    "print(ans2)"
   ]
  },
  {
   "cell_type": "code",
   "execution_count": 3,
   "id": "fa844520",
   "metadata": {},
   "outputs": [
    {
     "name": "stdout",
     "output_type": "stream",
     "text": [
      "in...in...incredible?\n",
      "en...en...enthusiastic?\n",
      "ou...ou...outstanding?\n"
     ]
    }
   ],
   "source": [
    "''' Question 18:\n",
    "Write a function that stutters a word as if someone is struggling to read it. The\n",
    "first two letters are repeated twice with an ellipsis ... and space after each, and then the\n",
    "word is pronounced with a question mark ?.\n",
    "Examples\n",
    "stutter(\"incredible\") ➞ \"in... in... incredible?\";\n",
    "stutter(\"enthusiastic\") ➞ \"en... en... enthusiastic?\"\n",
    "stutter(\"outstanding\") ➞ \"ou... ou... outstanding?\"\n",
    "\n",
    "Hint :- Assume all input is in lower case and at least two characters long.\n",
    "'''\n",
    "\n",
    "def stutter(word):\n",
    "    s = word[0:2]\n",
    "    return (2 * (s + \"...\") + word + \"?\")\n",
    "\n",
    "print(stutter(\"incredible\"))\n",
    "print(stutter(\"enthusiastic\"))\n",
    "print(stutter(\"outstanding\"))\n"
   ]
  },
  {
   "cell_type": "code",
   "execution_count": 14,
   "id": "7dddafde",
   "metadata": {},
   "outputs": [
    {
     "name": "stdout",
     "output_type": "stream",
     "text": [
      "57.3\n",
      "1145.9\n",
      "2864.8\n"
     ]
    }
   ],
   "source": [
    "'''Question 19:\n",
    "Create a function that takes an angle in radians and returns the corresponding\n",
    "angle in degrees rounded to one decimal place.\n",
    "Examples\n",
    "radians_to_degrees(1) ➞ 57.3\n",
    "radians_to_degrees(20) ➞ 1145.9\n",
    "radians_to_degrees(50) ➞ 2864.8\n",
    "'''\n",
    "import math\n",
    "from math import pi\n",
    "\n",
    "def radian(r):\n",
    "    d = r*(180/pi)\n",
    "    return (round(d,1))  #---> Roundoff till first place.\n",
    "\n",
    "print(radian(1))\n",
    "print(radian(20))\n",
    "print(radian(50))"
   ]
  },
  {
   "cell_type": "code",
   "execution_count": 16,
   "id": "0d55c18a",
   "metadata": {},
   "outputs": [
    {
     "name": "stdout",
     "output_type": "stream",
     "text": [
      "True\n",
      "False\n",
      "True\n"
     ]
    }
   ],
   "source": [
    "'''Question 20:\n",
    "In this challenge, establish if a given integer num is a Curzon number. If 1 plus\n",
    "2 elevated to num is exactly divisible by 1 plus 2 multiplied by num, then num is a Curzon\n",
    "number.\n",
    "Given a non-negative integer num, implement a function that returns True if num is a Curzon\n",
    "number, or False otherwise.\n",
    "Examples\n",
    "is_curzon(5) ➞ True\n",
    "# 2 ** 5 + 1 = 33\n",
    "# 2 * 5 + 1 = 11\n",
    "# 33 is a multiple of 11\n",
    "is_curzon(10) ➞ False\n",
    "# 2 ** 10 + 1 = 1025\n",
    "# 2 * 10 + 1 = 21\n",
    "# 1025 is not a multiple of 21\n",
    "is_curzon(14) ➞ True\n",
    "# 2 ** 14 + 1 = 16385\n",
    "# 2 * 14 + 1 = 29\n",
    "# 16385 is a multiple of 29'''\n",
    "\n",
    "def is_curzon(n):\n",
    "    a = 2**n + 1\n",
    "    b = 2*n + 1\n",
    "    if a%b == 0:\n",
    "        return True\n",
    "    else:\n",
    "        return False\n",
    "print(is_curzon(5))\n",
    "print(is_curzon(10))\n",
    "print(is_curzon(14))"
   ]
  },
  {
   "cell_type": "code",
   "execution_count": 33,
   "id": "29fab0ee",
   "metadata": {},
   "outputs": [
    {
     "name": "stdout",
     "output_type": "stream",
     "text": [
      "2.6\n",
      "10.4\n",
      "23.4\n"
     ]
    }
   ],
   "source": [
    "'''Question 21:\n",
    "Question 4.Given the side length s. find the area of a hexagon.\n",
    "Area(A) = [(3 * (3**(1/2))/2) * (s**2)]\n",
    "Examples\n",
    "area_of_hexagon(1) ➞ 2.6\n",
    "area_of_hexagon(2) ➞ 10.4\n",
    "area_of_hexagon(3) ➞ 23.4'''\n",
    "\n",
    "\n",
    "def area_hexagon(s):\n",
    "    c = (3 * (3**(1/2))/2)\n",
    "    a = c * (s**2)\n",
    "    return (round(a,1))\n",
    "\n",
    "print(area_hexagon(1))\n",
    "print(area_hexagon(2))\n",
    "print(area_hexagon(3))\n"
   ]
  },
  {
   "cell_type": "code",
   "execution_count": 52,
   "id": "5487d2b6",
   "metadata": {},
   "outputs": [
    {
     "ename": "IndentationError",
     "evalue": "unindent does not match any outer indentation level (<tokenize>, line 20)",
     "output_type": "error",
     "traceback": [
      "\u001b[1;36m  File \u001b[1;32m\"<tokenize>\"\u001b[1;36m, line \u001b[1;32m20\u001b[0m\n\u001b[1;33m    while (decimal > 0) {\u001b[0m\n\u001b[1;37m    ^\u001b[0m\n\u001b[1;31mIndentationError\u001b[0m\u001b[1;31m:\u001b[0m unindent does not match any outer indentation level\n"
     ]
    }
   ],
   "source": [
    "'''Question 22:\n",
    "Create a function that returns a base-2 (binary) representation of a base-10\n",
    "(decimal) string number. To convert is simple: ((2) means base-2 and (10) means base-10)\n",
    "010101001(2) = 1 + 8 + 32 + 128.\n",
    "Going from right to left, the value of the most right bit is 1, now from that every bit to the left\n",
    "will be x2 the value, value of an 8 bit binary numbers are (256, 128, 64, 32, 16, 8, 4, 2, 1).\n",
    "Examples\n",
    "binary(1) ➞ \"1\"\n",
    "# 1*1 = 1\n",
    "binary(5) ➞ \"5\"\n",
    "# 1*1 + 1*4 = 5\n",
    "binary(10) ➞ \"10\"\n",
    "# 1*2 + 1*8 = 10'''\n"
   ]
  },
  {
   "cell_type": "code",
   "execution_count": 35,
   "id": "310a7dc7",
   "metadata": {},
   "outputs": [
    {
     "name": "stdout",
     "output_type": "stream",
     "text": [
      "30\n",
      "18\n",
      "No number between 1 and 10 can be evenly divided by 20\n",
      "0\n"
     ]
    }
   ],
   "source": [
    "'''Question 23:\n",
    "Create a function that takes three arguments a, b, c and returns the sum of the\n",
    "numbers that are evenly divided by c from the range a, b inclusive.\n",
    "Examples\n",
    "evenly_divisible(1, 10, 20) ➞ 0\n",
    "# No number between 1 and 10 can be evenly divided by 20.\n",
    "evenly_divisible(1, 10, 2) ➞ 30\n",
    "# 2 + 4 + 6 + 8 + 10 = 30\n",
    "evenly_divisible(1, 10, 3) ➞ 18\n",
    "# 3 + 6 + 9 = 18'''\n",
    "\n",
    "def inclusive(p, q, r):\n",
    "    p = int(p)\n",
    "    q = int(q)\n",
    "    r = int(r)\n",
    "    sum = 0\n",
    "    for i in range(p, q+1):\n",
    "        if i%r == 0:\n",
    "            sum = sum + i\n",
    "        if sum==0:\n",
    "            continue\n",
    "            \n",
    "    if r>q:\n",
    "        print(f\"No number between {p} and {q} can be evenly divided by {r}\")\n",
    "    return sum\n",
    "\n",
    "print(inclusive(1,10,2))\n",
    "print(inclusive(1,10,3))\n",
    "print(inclusive(1,10,20))\n"
   ]
  },
  {
   "cell_type": "code",
   "execution_count": 42,
   "id": "22422410",
   "metadata": {},
   "outputs": [
    {
     "name": "stdout",
     "output_type": "stream",
     "text": [
      "True\n",
      "False\n",
      "True\n"
     ]
    }
   ],
   "source": [
    "'''Question 24:\n",
    "Create a function that returns True if a given inequality expression is correct and\n",
    "False otherwise.\n",
    "Examples\n",
    "correct_signs(\"3 < 7 < 11\") ➞ True\n",
    "correct_signs(\"13 > 44 > 33 > 1\") ➞ False\n",
    "correct_signs(\"1 < 2 < 6 < 9 > 3\") ➞ True'''\n",
    "\n",
    "\n",
    "def check(s):    #---> here s is nothing but a string.\n",
    "    r=eval(s) #---> eval function evaluates the “String” like a python expression and returns the result as an integer.\n",
    "    if r:\n",
    "        return True\n",
    "    else:\n",
    "        return False \n",
    " \n",
    "print(check(\"3 < 7 < 11\"))\n",
    "print(check(\"13 > 44 > 33 > 1\"))\n",
    "print(check(\"1 < 2 < 6 < 9 > 3\"))\n",
    "\n"
   ]
  },
  {
   "cell_type": "code",
   "execution_count": 49,
   "id": "ba5093cf",
   "metadata": {},
   "outputs": [
    {
     "name": "stdout",
     "output_type": "stream",
     "text": [
      "Given Sting: the aardvark\n",
      "Given Specified Character: #\n",
      "After replacing vowels with the specified character: th# ##rdv#rk\n"
     ]
    }
   ],
   "source": [
    "'''Question 25:\n",
    "Create a function that replaces all the vowels in a string with a specified character.\n",
    "Examples\n",
    "replace_vowels(\"the aardvark\", \"#\") ➞ \"th# ##rdv#rk\"\n",
    "replace_vowels(\"minnie mouse\", \"?\") ➞ \"m?nn?? m??s?\"\n",
    "replace_vowels(\"shakespeare\", \"*\") ➞ \"sh*k*sp**r*\"'''\n",
    "\n",
    "def replaceVowelsWithK(test_str, K):\n",
    " \n",
    "    # creating list of vowels\n",
    "    vowels_list = ['A', 'E', 'I', 'O', 'U', 'a', 'e', 'i', 'o', 'u']\n",
    " \n",
    "    # creating empty list\n",
    "    new_string = []\n",
    " \n",
    "    # converting the given string to list\n",
    "    string_list = list(test_str)\n",
    " \n",
    "    # running 1st iteration for\n",
    "    # comparing all the\n",
    "    # characters of string with\n",
    "    # the vowel characters\n",
    "    for char in string_list:\n",
    " \n",
    "        # running 2nd iteration for\n",
    "        # comparing all the characters\n",
    "        # of vowels with the string character\n",
    "        for char2 in vowels_list:\n",
    " \n",
    "            # comparing string character\n",
    "            # and vowel character\n",
    "            if char == char2:\n",
    " \n",
    "                # if condition is true then adding\n",
    "                # the specific character entered\n",
    "                # by the user in the new list\n",
    "                new_string.append(K)\n",
    "                break\n",
    " \n",
    "        # else adding the character\n",
    "        else:\n",
    "            new_string.append(char)\n",
    " \n",
    "    # return the converted list into string\n",
    "    return(''.join(new_string))\n",
    " \n",
    "   \n",
    " \n",
    "# Driver Code\n",
    "# input string\n",
    "input_str = \"the aardvark\"\n",
    " \n",
    "# specified character\n",
    "K = \"#\"\n",
    " \n",
    "# printing input\n",
    "print(\"Given Sting:\", input_str)\n",
    "print(\"Given Specified Character:\", K)\n",
    "print(\"After replacing vowels with the specified character:\",\n",
    "      replaceVowelsWithK(input_str, K))\n",
    "        "
   ]
  },
  {
   "cell_type": "code",
   "execution_count": 13,
   "id": "22ba32f3",
   "metadata": {},
   "outputs": [
    {
     "name": "stdout",
     "output_type": "stream",
     "text": [
      "120\n",
      "6\n",
      "1\n",
      "1\n"
     ]
    }
   ],
   "source": [
    "'''Question 26:\n",
    "Write a function that calculates the factorial of a number recursively.\n",
    "Examples\n",
    "factorial(5) ➞ 120\n",
    "factorial(3) ➞ 6\n",
    "factorial(1) ➞ 1\n",
    "factorial(0) ➞ 1'''\n",
    "\n",
    "def fact(n):\n",
    "    if n == 0:\n",
    "        return 1\n",
    "    elif n == 1:\n",
    "        return 1\n",
    "    elif n>1:\n",
    "        factorial = (n * fact(n-1))\n",
    "        return factorial\n",
    "    \n",
    "\n",
    "print(fact(5))\n",
    "print(fact(3))\n",
    "print(fact(1))\n",
    "print(fact(0))"
   ]
  },
  {
   "cell_type": "code",
   "execution_count": 21,
   "id": "b3839aca",
   "metadata": {},
   "outputs": [
    {
     "name": "stdout",
     "output_type": "stream",
     "text": [
      "4\n"
     ]
    }
   ],
   "source": [
    "'''Question 27:\n",
    "Hamming distance is the number of characters that differ between two strings.\n",
    "To illustrate:\n",
    "String1: \"abcbba\"\n",
    "String2: \"abcbda\"'''\n",
    "\n",
    "def hammingDist(str1, str2):\n",
    "    i = 0\n",
    "    count = 0\n",
    " \n",
    "    while(i < len(str1)):\n",
    "        if(str1[i] != str2[i]):\n",
    "            count += 1\n",
    "        i += 1\n",
    "    return count\n",
    " \n",
    "# Driver code \n",
    "str1 = \"geekspractice\"\n",
    "str2 = \"nerdspractise\"\n",
    " \n",
    "# function call\n",
    "print(hammingDist(str1, str2))"
   ]
  },
  {
   "cell_type": "code",
   "execution_count": 31,
   "id": "8fe23609",
   "metadata": {},
   "outputs": [
    {
     "name": "stdout",
     "output_type": "stream",
     "text": [
      "[1, 2]\n",
      "[1, 0, 15]\n",
      "[1, 2, 123]\n"
     ]
    }
   ],
   "source": [
    "'''Question 28:\n",
    "Create a function that takes a list of non-negative integers and strings and return a new list\n",
    "without the strings.\n",
    "Examples\n",
    "filter_list([1, 2, \"a\", \"b\"]) ➞ [1, 2]\n",
    "filter_list([1, \"a\", \"b\", 0, 15]) ➞ [1, 0, 15]\n",
    "filter_list([1, 2, \"aasf\", \"1\", \"123\", 123]) ➞ [1, 2, 123]\n",
    "'''\n",
    "\n",
    "def filter_list(l):\n",
    "    list = []\n",
    "    for i in l:\n",
    "        if type(i) == int:\n",
    "            list.append(i)\n",
    "    return list\n",
    "l1 = [1, 2, 'a', 'b']\n",
    "l2 = [1, \"a\", \"b\", 0, 15]\n",
    "l3 = [1, 2, \"aasf\", \"1\", \"123\", 123]\n",
    "print(filter_list(l1))\n",
    "print(filter_list(l2))\n",
    "print(filter_list(l3))"
   ]
  },
  {
   "cell_type": "code",
   "execution_count": 37,
   "id": "ca7f2266",
   "metadata": {},
   "outputs": [
    {
     "name": "stdout",
     "output_type": "stream",
     "text": [
      "World Hello\n"
     ]
    }
   ],
   "source": [
    "'''Question 29:\n",
    "Print words of a string in reverse order.\n",
    "'''\n",
    "\n",
    "def wordReverse(str):\n",
    "    i = len(str)-1\n",
    "    start = end = i+1\n",
    "    result = ''\n",
    " \n",
    "    while i >= 0:\n",
    "        if str[i] == ' ':\n",
    "            start = i+1\n",
    "            while start != end:\n",
    "                result += str[start]\n",
    "                start += 1\n",
    "            result += ' '\n",
    "            end = i\n",
    "        i -= 1\n",
    "    start = 0\n",
    "    while start != end:\n",
    "        result += str[start]\n",
    "        start += 1\n",
    "    return result\n",
    "\n",
    "str = \"Hello World\"\n",
    "print(wordReverse(str))"
   ]
  },
  {
   "cell_type": "code",
   "execution_count": 42,
   "id": "fd7d4030",
   "metadata": {},
   "outputs": [
    {
     "name": "stdout",
     "output_type": "stream",
     "text": [
      "DLROw OLLEh\n",
      "eSrEvEr\n",
      "RADAr\n"
     ]
    }
   ],
   "source": [
    "'''Question 30:\n",
    "The \"Reverser\" takes a string as input and returns that string in reverse order, with the\n",
    "opposite case.\n",
    "Examples\n",
    "reverse(\"Hello World\") ➞ \"DLROw OLLEh\"\n",
    "reverse(\"ReVeRsE\") ➞ \"eSrEvEr\"\n",
    "reverse(\"Radar\") ➞ \"RADAr\"'''\n",
    "def reverse_for_loop(s):\n",
    "    s1 = ''\n",
    "    for c in s:\n",
    "        s1 = c + s1   #---> appending chars in reverse order.\n",
    "    return s1.swapcase()  #---> swaping letter case.\n",
    "\n",
    "print(reverse_for_loop(\"Hello World\"))\n",
    "print(reverse_for_loop(\"ReVeRsE\"))\n",
    "print(reverse_for_loop(\"Radar\"))\n"
   ]
  },
  {
   "cell_type": "code",
   "execution_count": 49,
   "id": "674e33e6",
   "metadata": {},
   "outputs": [
    {
     "name": "stdout",
     "output_type": "stream",
     "text": [
      "1\n",
      "[2, 3, 4, 5]\n",
      "6\n"
     ]
    }
   ],
   "source": [
    "'''Question 31:\n",
    "You can assign variables from lists like this:\n",
    "lst = [1, 2, 3, 4, 5, 6]\n",
    "first = lst[0]\n",
    "middle = lst[1:-1]\n",
    "last = lst[-1]\n",
    "print(first) ➞ outputs 1\n",
    "print(middle) ➞ outputs [2, 3, 4, 5]\n",
    "print(last) ➞ outputs 6\n",
    "\n",
    "Your task is to unpack the list writeyourcodehere into three variables, being first,\n",
    "middle, and last, with middle being everything in between the first and last element. Then\n",
    "print all three variables.'''\n",
    "\n",
    "list = [1, 2, 3, 4, 5, 6]\n",
    "print(list[0])\n",
    "print(list[1: (len(list) - 1)])  #---> or {print(list[1: -1])}\n",
    "print(list[-1])\n"
   ]
  },
  {
   "cell_type": "code",
   "execution_count": 22,
   "id": "08b48300",
   "metadata": {},
   "outputs": [
    {
     "name": "stdout",
     "output_type": "stream",
     "text": [
      "[3, 2, 4, 4, 1, 1]\n",
      "[7, 8, 9, 2, 3, 4, 1]\n"
     ]
    }
   ],
   "source": [
    "'''Question 32:\n",
    "Write a function that moves all elements of one type to the end of the list.\n",
    "Examples\n",
    "move_to_end([1, 3, 2, 4, 4, 1], 1) ➞ [3, 2, 4, 4, 1, 1]\n",
    "# Move all the 1s to the end of the array.\n",
    "move_to_end([7, 8, 9, 1, 2, 3, 4], 9) ➞ [7, 8, 1, 2, 3, 4, 9]\n",
    "move_to_end{[\"a\", \"a\", \"a\", \"b\"], \"a\"} ➞ [\"b\", \"a\", \"a\", \"a\"]\n",
    "'''\n",
    "# test_list = [1, 3, 2, 4, 4, 1]\n",
    "def move_to_end(test_list, b):\n",
    "    if type(b) == int:\n",
    "        test_list.append(test_list.pop(test_list.index(1)))\n",
    "        return test_list\n",
    "    elif type(b) == str:\n",
    "        test_list.append(test_list.pop(test_list.index(1)))\n",
    "        return str(test_list)\n",
    "\n",
    "print(move_to_end([1, 3, 2, 4, 4, 1], 1))\n",
    "print(move_to_end([7, 8, 9, 1, 2, 3, 4], 9))\n",
    "# print(move_to_end([\"a\", \"a\", \"a\", \"b\"], \"a\"))\n",
    "\n",
    "    "
   ]
  },
  {
   "cell_type": "code",
   "execution_count": 8,
   "id": "1cf945f1",
   "metadata": {},
   "outputs": [
    {
     "name": "stdout",
     "output_type": "stream",
     "text": [
      "SSttrriinnggNone\n",
      "HHeelllloo  WWoorrlldd!!None\n",
      "11223344!!__None\n"
     ]
    }
   ],
   "source": [
    "'''Question 33:\n",
    "Create a function that takes a string and returns a string in which each character is repeated\n",
    "once.\n",
    "Examples\n",
    "double_char(\"String\") ➞ \"SSttrriinngg\"\n",
    "double_char(\"Hello World!\") ➞ \"HHeelllloo WWoorrlldd!!\"\n",
    "double_char(\"1234!_ \") ➞ \"11223344!!__ \"\n",
    "'''\n",
    "def double_char(word):\n",
    "    for i in word:\n",
    "        print(f\"{str(i) * 2}\", end = '')\n",
    "        \n",
    "        \n",
    "print(double_char(\"String\"))\n",
    "print(double_char(\"Hello World!\"))\n",
    "print(double_char(\"1234!_\"))\n",
    "\n"
   ]
  },
  {
   "cell_type": "code",
   "execution_count": 25,
   "id": "396930a5",
   "metadata": {},
   "outputs": [
    {
     "name": "stdout",
     "output_type": "stream",
     "text": [
      "False\n",
      "True\n",
      "boolean expected\n",
      "boolean expected\n"
     ]
    }
   ],
   "source": [
    "'''Question 34:\n",
    "Create a function that reverses a boolean value and returns the string &quot;boolean expected&quot;\n",
    "if another variable type is given.\n",
    "Examples\n",
    "reverse(True) ➞ False\n",
    "reverse(False) ➞ True\n",
    "reverse(0) ➞ \"boolean expected\"\n",
    "reverse(None) ➞ \"boolean expected\"\n",
    "'''\n",
    "def reverse(input):\n",
    "    if type(input) == bool:\n",
    "        return not input\n",
    "    else:\n",
    "        return \"boolean expected\"\n",
    "print(reverse(True))\n",
    "print(reverse(False))\n",
    "print(reverse(0))\n",
    "print(reverse(None))"
   ]
  },
  {
   "cell_type": "code",
   "execution_count": 29,
   "id": "216c7104",
   "metadata": {},
   "outputs": [
    {
     "name": "stdout",
     "output_type": "stream",
     "text": [
      "0.001\n",
      "0.008\n",
      "1048.576\n"
     ]
    }
   ],
   "source": [
    "'''Question 35:\n",
    "Create a function that returns the thickness (in meters) of a piece of paper after folding it n\n",
    "number of times. The paper starts off with a thickness of 0.5mm.\n",
    "Examples\n",
    "num_layers(1) ➞ \"0.001m\"\n",
    "# Paper folded once is 1mm (equal to 0.001m)\n",
    "num_layers(4) ➞ \"0.008m\"\n",
    "# Paper folded 4 times is 8mm (equal to 0.008m)\n",
    "num_layers(21) ➞ \"1048.576m\"\n",
    "# Paper folded 21 times is 1048576mm (equal to 1048.576m)'''\n",
    "# Formula ---> New thickness = [(0.5 * 2^n) * 0.001] meter\n",
    "\n",
    "def num_layers(n):\n",
    "    new_thickness = (0.5 * 2**n) * 0.001\n",
    "    return new_thickness\n",
    "\n",
    "print(num_layers(1))\n",
    "print(num_layers(4))\n",
    "print(num_layers(21))\n",
    "\n"
   ]
  },
  {
   "cell_type": "code",
   "execution_count": 67,
   "id": "5e1fa845",
   "metadata": {},
   "outputs": [
    {
     "name": "stdout",
     "output_type": "stream",
     "text": [
      "[1, 3, 5]\n",
      "[1, 3, 4, 6]\n",
      "[]\n",
      "[0, 1, 2, 3, 4, 5]\n",
      "[1]\n"
     ]
    }
   ],
   "source": [
    "'''Question 36:\n",
    "Create a function that takes a single string as argument and returns an ordered list containing\n",
    "the indices of all capital letters in the string.\n",
    "'''\n",
    "\n",
    "def index_of_caps(string):\n",
    "    res = [i for i, chr in enumerate(string) if chr.isupper()]\n",
    "    return res\n",
    "print(index_of_caps(\"eDaBiT\"))\n",
    "print(index_of_caps(\"eQuINoX\"))\n",
    "print(index_of_caps(\"determine\"))\n",
    "print(index_of_caps(\"STRIKE\"))\n",
    "print(index_of_caps(\"sUn\"))\n"
   ]
  },
  {
   "cell_type": "code",
   "execution_count": 70,
   "id": "ee096524",
   "metadata": {},
   "outputs": [
    {
     "name": "stdout",
     "output_type": "stream",
     "text": [
      "[2, 4, 6, 8]\n",
      "[2, 4]\n",
      "[2]\n"
     ]
    }
   ],
   "source": [
    "'''Question 37:\n",
    "Using list comprehensions, create a function that finds all even numbers from 1 to the given\n",
    "number.\n",
    "Examples\n",
    "find_even_nums(8) ➞ [2, 4, 6, 8]\n",
    "find_even_nums(4) ➞ [2, 4]\n",
    "find_even_nums(2) ➞ [2]\n",
    "'''\n",
    "def find_even_nums(n):\n",
    "    list = []\n",
    "    for i in range(1, n+1):\n",
    "        if i%2 == 0:\n",
    "            list.append(i)\n",
    "    return list\n",
    "print(find_even_nums(8))\n",
    "print(find_even_nums(4))\n",
    "print(find_even_nums(2))"
   ]
  },
  {
   "cell_type": "code",
   "execution_count": 3,
   "id": "ad86e706",
   "metadata": {},
   "outputs": [
    {
     "name": "stdout",
     "output_type": "stream",
     "text": [
      "[1, 2, 3, 4]\n",
      "[0, 1729]\n",
      "[]\n"
     ]
    }
   ],
   "source": [
    "'''Question 38:\n",
    "Create a function that takes a list of strings and integers, and filters out the list so that it\n",
    "returns a list of integers only.\n",
    "'''\n",
    "\n",
    "def filter_list(list):\n",
    "    l = []\n",
    "    for i in list:\n",
    "        if type(i) == int:\n",
    "            l.append(i)\n",
    "        else:\n",
    "            continue\n",
    "    return l\n",
    "print(filter_list([1, 2, 3, \"a\", \"b\", 4]))\n",
    "print(filter_list([\"A\", 0, \"Edabit\", 1729, \"Python\", \"1729\"]))\n",
    "print(filter_list([\"Nothing\", \"here\"]))\n"
   ]
  },
  {
   "cell_type": "code",
   "execution_count": 18,
   "id": "0cb3b8cc",
   "metadata": {},
   "outputs": [
    {
     "name": "stdout",
     "output_type": "stream",
     "text": [
      "47\n",
      "2\n"
     ]
    }
   ],
   "source": [
    "list = [12, 23, 35, 47]\n",
    "print(list[3])\n",
    "print(list.index(35))"
   ]
  },
  {
   "cell_type": "code",
   "execution_count": 3,
   "id": "9791096f",
   "metadata": {},
   "outputs": [
    {
     "name": "stdout",
     "output_type": "stream",
     "text": [
      "[0, 1, 2, 3, 4]\n",
      "[1, 3, 5, 7, 9]\n",
      "[5, 5, 5, 5, 5]\n"
     ]
    }
   ],
   "source": [
    "'''Question 39:\n",
    "Given a list of numbers, create a function which returns the list but with each element&#39;s\n",
    "index in the list added to itself. This means you add 0 to the number at index 0, add 1 to the\n",
    "number at index 1, etc...\n",
    "Examples\n",
    "add_indexes([0, 0, 0, 0, 0]) ➞ [0, 1, 2, 3, 4]\n",
    "add_indexes([1, 2, 3, 4, 5]) ➞ [1, 3, 5, 7, 9]\n",
    "add_indexes([5, 4, 3, 2, 1]) ➞ [5, 5, 5, 5, 5]\n",
    "'''\n",
    "def add_indexes(list):\n",
    "    l1 = []\n",
    "    b = 0\n",
    "    for i in list:\n",
    "        l1.append(i+b)\n",
    "        b += 1\n",
    "    \n",
    "    return l1\n",
    "\n",
    "print(add_indexes([0, 0, 0, 0, 0]))\n",
    "print(add_indexes([1, 2, 3, 4, 5]))\n",
    "print(add_indexes([5, 4, 3, 2, 1]))"
   ]
  },
  {
   "cell_type": "code",
   "execution_count": 4,
   "id": "4a813429",
   "metadata": {},
   "outputs": [
    {
     "name": "stdout",
     "output_type": "stream",
     "text": [
      "12.57\n",
      "565.49\n",
      "0.00\n"
     ]
    }
   ],
   "source": [
    "'''Question 40:\n",
    "Create a function that takes the height and radius of a cone as arguments and returns the\n",
    "volume of the cone rounded to the nearest hundredth. See the resources tab for the formula.\n",
    "Examples\n",
    "cone_volume(3, 2) ➞ 12.57\n",
    "cone_volume(15, 6) ➞ 565.49\n",
    "cone_volume(18, 0) ➞ 0\n",
    "'''\n",
    "#Volume of right circular cone(V)---> (V=π*r^2*h/3)\n",
    "\n",
    "from math import pi\n",
    "def cone_volume(h, r):\n",
    "    v = (pi*r**2*h)/3\n",
    "    format_float = \"{:.2f}\".format(v)\n",
    "    return format_float\n",
    "print(cone_volume(3,2))\n",
    "print(cone_volume(15,6))\n",
    "print(cone_volume(18,0))\n",
    "    "
   ]
  },
  {
   "cell_type": "code",
   "execution_count": 5,
   "id": "c0fc9ae9",
   "metadata": {},
   "outputs": [
    {
     "name": "stdout",
     "output_type": "stream",
     "text": [
      "1\n",
      "21\n",
      "23220\n"
     ]
    }
   ],
   "source": [
    "'''Question 41:\n",
    "This Triangular Number Sequence is generated from a pattern of dots that form a triangle.\n",
    "The first 5 numbers of the sequence, or dots, are:\n",
    "1, 3, 6, 10, 15\n",
    "This means that the first triangle has just one dot, the second one has three dots, the third one\n",
    "has 6 dots and so on.\n",
    "Write a function that gives the number of dots with its corresponding triangle number of the\n",
    "sequence.\n",
    "Examples\n",
    "triangle(1) ➞ 1\n",
    "triangle(6) ➞ 21\n",
    "triangle(215) ➞ 23220\n",
    "'''\n",
    "\n",
    "def triangle(n):\n",
    "    sum = 0\n",
    "    for i in range(1, n+1):\n",
    "        sum += i\n",
    "    return sum\n",
    "print(triangle(1))\n",
    "print(triangle(6))\n",
    "print(triangle(215))"
   ]
  },
  {
   "cell_type": "code",
   "execution_count": 6,
   "id": "0e36e9e6",
   "metadata": {},
   "outputs": [
    {
     "name": "stdout",
     "output_type": "stream",
     "text": [
      "5\n",
      "10\n",
      "7\n"
     ]
    }
   ],
   "source": [
    "'''Question 42:\n",
    "Create a function that takes a list of numbers between 1 and 10 (excluding one number) and\n",
    "returns the missing number.\n",
    "Examples\n",
    "missing_num([1, 2, 3, 4, 6, 7, 8, 9, 10]) ➞ 5\n",
    "missing_num([7, 2, 3, 6, 5, 9, 1, 4, 8]) ➞ 10\n",
    "missing_num([10, 5, 1, 2, 4, 6, 8, 3, 9]) ➞ 7\n",
    "'''\n",
    "\n",
    "def missing_num(list):\n",
    "    for i in range(1, 11):\n",
    "        if i not in list:\n",
    "            missing_number = i\n",
    "    return missing_number\n",
    "print(missing_num([1, 2, 3, 4, 6, 7, 8, 9, 10]))\n",
    "print(missing_num([7, 2, 3, 6, 5, 9, 1, 4, 8]))\n",
    "print(missing_num([10, 5, 1, 2, 4, 6, 8, 3, 9]))\n"
   ]
  },
  {
   "cell_type": "code",
   "execution_count": 7,
   "id": "039d7d7a",
   "metadata": {},
   "outputs": [
    {
     "name": "stdout",
     "output_type": "stream",
     "text": [
      "[6, 7, 8, 9, 1]\n",
      "[6, 3, 23, 17, 10]\n",
      "[10, 20, 42, 6]\n",
      "No list has been selected\n"
     ]
    }
   ],
   "source": [
    "'''Question 43:\n",
    "Write a function that takes a list and a number as arguments. Add the number to the end of\n",
    "the list, then remove the first element of the list. The function should then return the updated\n",
    "list.\n",
    "Examples\n",
    "next_in_line([5, 6, 7, 8, 9], 1) ➞ [6, 7, 8, 9, 1]\n",
    "next_in_line([7, 6, 3, 23, 17], 10) ➞ [6, 3, 23, 17, 10]\n",
    "next_in_line([1, 10, 20, 42 ], 6) ➞ [10, 20, 42, 6]\n",
    "next_in_line([], 6) ➞ \"No list has been selected\"\n",
    "'''\n",
    "\n",
    "def next_in_line(list, n):\n",
    "    if len(list) != 0:\n",
    "        list.pop(0)\n",
    "        a = len(list)\n",
    "        list.insert(a, n)\n",
    "        return list\n",
    "    elif len(list) == 0:\n",
    "        return (\"No list has been selected\")\n",
    "\n",
    "print(next_in_line([5, 6, 7, 8, 9], 1))\n",
    "print(next_in_line([7, 6, 3, 23, 17], 10))\n",
    "print(next_in_line([1, 10, 20, 42], 6))\n",
    "print(next_in_line([], 6))\n"
   ]
  },
  {
   "cell_type": "code",
   "execution_count": 8,
   "id": "b15eb6f1",
   "metadata": {},
   "outputs": [
    {
     "name": "stdout",
     "output_type": "stream",
     "text": [
      "65700\n",
      "62600\n"
     ]
    }
   ],
   "source": [
    "'''Question 44:\n",
    "Create the function that takes a list of dictionaries and returns the sum of people's budgets.\n",
    "'''\n",
    "\n",
    "def get_budgets(list):\n",
    "    sum = 0\n",
    "    for d in list:\n",
    "        a = d.get(\"budget\")\n",
    "        sum += a\n",
    "    return sum\n",
    "print(get_budgets([{ \"name\": \"John\", \"age\": 21, \"budget\" : 23000 },\n",
    "               { \"name\": \"Steve\", \"age\": 32, \"budget\" : 40000 },\n",
    "               { \"name\": \"Martin\", \"age\": 16, \"budget\" : 2700 }]))\n",
    "print(get_budgets([\n",
    "                { \"name\": \"John\", \"age\": 21, \"budget\": 29000 },\n",
    "                { \"name\": \"Steve\", \"age\": 32, \"budget\": 32000 },\n",
    "                { \"name\": \"Martin\", \"age\": 16, \"budget\": 1600 }]))\n"
   ]
  },
  {
   "cell_type": "code",
   "execution_count": 9,
   "id": "3cbe1e5d",
   "metadata": {},
   "outputs": [
    {
     "name": "stdout",
     "output_type": "stream",
     "text": [
      "ehllo\n",
      "abdeit\n",
      "acehkr\n",
      "eegk\n",
      "aacijprstv\n"
     ]
    }
   ],
   "source": [
    "'''Question 45:\n",
    "Create a function that takes a string and returns \n",
    "a string with its letters in alphabetical order.\n",
    "'''\n",
    "# ---> By using sorted() with join().\n",
    "def alphabet_soup(str):\n",
    "    return ''.join(sorted(str))\n",
    "\n",
    "print(alphabet_soup(\"hello\"))\n",
    "print(alphabet_soup(\"edabit\"))\n",
    "print(alphabet_soup(\"hacker\"))\n",
    "print(alphabet_soup(\"geek\"))\n",
    "print(alphabet_soup(\"javascript\"))"
   ]
  },
  {
   "cell_type": "code",
   "execution_count": 10,
   "id": "adbaddc0",
   "metadata": {},
   "outputs": [
    {
     "name": "stdout",
     "output_type": "stream",
     "text": [
      "[3, 6, 9]\n",
      "[8]\n",
      "[]\n"
     ]
    }
   ],
   "source": [
    "'''Question 46:\n",
    "Create a function that takes three parameters where:\n",
    " x is the start of the range (inclusive).\n",
    " y is the end of the range (inclusive).\n",
    " n is the divisor to be checked against.\n",
    "Return an ordered list with numbers in the range that are divisible by the third parameter n.\n",
    "Return an empty list if there are no numbers that are divisible by n.\n",
    "Examples\n",
    "list_operation(1, 10, 3) ➞ [3, 6, 9]\n",
    "list_operation(7, 9, 2) ➞ [8]\n",
    "list_operation(15, 20, 7) ➞ []\n",
    "'''\n",
    "\n",
    "def list_operation(x, y, n):\n",
    "    list = []\n",
    "    for i in range(x,y):\n",
    "        if i%n == 0:\n",
    "            list.append(i)\n",
    "    return list\n",
    "print(list_operation(1, 10,3))\n",
    "print(list_operation(7, 9, 2))\n",
    "print(list_operation(15, 20, 7))\n"
   ]
  },
  {
   "cell_type": "code",
   "execution_count": 18,
   "id": "44bf788f",
   "metadata": {},
   "outputs": [
    {
     "ename": "IndexError",
     "evalue": "list index out of range",
     "output_type": "error",
     "traceback": [
      "\u001b[1;31m---------------------------------------------------------------------------\u001b[0m",
      "\u001b[1;31mIndexError\u001b[0m                                Traceback (most recent call last)",
      "\u001b[1;32m~\\AppData\\Local\\Temp/ipykernel_12068/3191795964.py\u001b[0m in \u001b[0;36m<module>\u001b[1;34m\u001b[0m\n\u001b[0;32m      3\u001b[0m \u001b[0ma\u001b[0m \u001b[1;33m=\u001b[0m \u001b[1;32mTrue\u001b[0m\u001b[1;33m\u001b[0m\u001b[1;33m\u001b[0m\u001b[0m\n\u001b[0;32m      4\u001b[0m \u001b[1;32mfor\u001b[0m \u001b[0mi\u001b[0m \u001b[1;32min\u001b[0m \u001b[0mrange\u001b[0m\u001b[1;33m(\u001b[0m\u001b[1;36m0\u001b[0m\u001b[1;33m,\u001b[0m \u001b[0mlen\u001b[0m\u001b[1;33m(\u001b[0m\u001b[0ml1\u001b[0m\u001b[1;33m)\u001b[0m\u001b[1;33m)\u001b[0m\u001b[1;33m:\u001b[0m\u001b[1;33m\u001b[0m\u001b[1;33m\u001b[0m\u001b[0m\n\u001b[1;32m----> 5\u001b[1;33m     \u001b[1;32mif\u001b[0m \u001b[0ml1\u001b[0m\u001b[1;33m[\u001b[0m\u001b[0mi\u001b[0m\u001b[1;33m]\u001b[0m \u001b[1;33m!=\u001b[0m \u001b[0ml2\u001b[0m\u001b[1;33m[\u001b[0m\u001b[0mi\u001b[0m\u001b[1;33m+\u001b[0m\u001b[1;36m1\u001b[0m\u001b[1;33m]\u001b[0m\u001b[1;33m:\u001b[0m\u001b[1;33m\u001b[0m\u001b[1;33m\u001b[0m\u001b[0m\n\u001b[0m\u001b[0;32m      6\u001b[0m         \u001b[0ma\u001b[0m \u001b[1;33m=\u001b[0m \u001b[1;32mFalse\u001b[0m\u001b[1;33m\u001b[0m\u001b[1;33m\u001b[0m\u001b[0m\n\u001b[0;32m      7\u001b[0m         \u001b[0mprint\u001b[0m\u001b[1;33m(\u001b[0m\u001b[0ma\u001b[0m\u001b[1;33m)\u001b[0m\u001b[1;33m\u001b[0m\u001b[1;33m\u001b[0m\u001b[0m\n",
      "\u001b[1;31mIndexError\u001b[0m: list index out of range"
     ]
    }
   ],
   "source": [
    "''' Question 47:\n",
    "Create a function that takes in two lists and returns True if the second list follows the first list\n",
    "by one element, and False otherwise. In other words, determine if the second list is the first\n",
    "list shifted to the right by 1.\n",
    "Examples\n",
    "simon_says([1, 2], [5, 1]) ➞ True\n",
    "simon_says([1, 2], [5, 5]) ➞ False\n",
    "simon_says([1, 2, 3, 4, 5], [0, 1, 2, 3, 4]) ➞ True\n",
    "simon_says([1, 2, 3, 4, 5], [5, 5, 1, 2, 3]) ➞ False\n",
    "Notes\n",
    " Both input lists will be of the same length, and will have a minimum length of 2.\n",
    " The values of the 0-indexed element in the second list and the n-1th indexed element\n",
    "in the first list do not matter.\n",
    "'''\n",
    "\n",
    "l1 = [1, 2, 3, 4]\n",
    "l2 = [5, 1, 2, 3]\n",
    "a = True\n",
    "for i in range(0, len(l1)):\n",
    "    if l1[i] != l2[i+1]:\n",
    "        a = False\n",
    "        print(a)\n",
    "        break\n",
    "****************************************CORRECT IT..."
   ]
  },
  {
   "cell_type": "code",
   "execution_count": 36,
   "id": "dc9bc153",
   "metadata": {},
   "outputs": [
    {
     "name": "stdout",
     "output_type": "stream",
     "text": [
      "AMS\n",
      "CHLN\n",
      "CJMPRR\n"
     ]
    }
   ],
   "source": [
    "'''Question 48:\n",
    "A group of friends have decided to start a secret society. The name will be the first letter of\n",
    "each of their names, sorted in alphabetical order.\n",
    "Create a function that takes in a list of names and returns the name of the secret society.\n",
    "'''\n",
    "\n",
    "def society_name(list):\n",
    "    l1 = []\n",
    "    for i in list:\n",
    "        l1.append(i[0])\n",
    "    string = ''.join(sorted(l1))\n",
    "    return string\n",
    "print(society_name([\"Adam\", \"Sarah\", \"Malcolm\"]))\n",
    "print(society_name([\"Harry\", \"Newt\", \"Luna\", \"Cho\"]))\n",
    "print(society_name([\"Phoebe\", \"Chandler\", \"Rachel\", \"Ross\", \"Monica\", \"Joey\"]))\n"
   ]
  },
  {
   "cell_type": "code",
   "execution_count": 49,
   "id": "49b377ef",
   "metadata": {},
   "outputs": [
    {
     "name": "stdout",
     "output_type": "stream",
     "text": [
      "True\n",
      "False\n",
      "False\n"
     ]
    }
   ],
   "source": [
    "'''Question 49:\n",
    "An isogram is a word that has no duplicate letters. Create a function that takes a string and\n",
    "returns either True or False depending on whether or not it's an \"isogram\".\n",
    "Notes\n",
    " Ignore letter case (should not be case sensitive).\n",
    " All test cases contain valid one word strings.\n",
    "'''\n",
    "\n",
    "def is_isogram(word):\n",
    " \n",
    "    # Convert the word or sentence in lower case letters.\n",
    "    clean_word = word.lower()\n",
    " \n",
    "    # Make an empty list to append unique letters\n",
    "    letter_list = []\n",
    " \n",
    "    for letter in clean_word:\n",
    " \n",
    "        # If letter is an alphabet then only check\n",
    "        if letter.isalpha():\n",
    "            if letter in letter_list:\n",
    "                return False\n",
    "            letter_list.append(letter)\n",
    " \n",
    "    return True\n",
    "\n",
    "print(is_isogram(\"Algorism\"))\n",
    "print(is_isogram(\"PasSWord\"))\n",
    "print(is_isogram(\"Consecutive\"))\n"
   ]
  },
  {
   "cell_type": "code",
   "execution_count": 52,
   "id": "a99a15b5",
   "metadata": {},
   "outputs": [
    {
     "name": "stdout",
     "output_type": "stream",
     "text": [
      "True\n",
      "False\n",
      "True\n",
      "True\n"
     ]
    }
   ],
   "source": [
    "'''Question 50:\n",
    "Create a function that takes a string and returns True or False, depending on whether the\n",
    "characters are in order or not.\n",
    "'''\n",
    "def is_in_alphabetical_Order(word):\n",
    "    for i in range(len(word) - 1):\n",
    "        if word[i] > word[i + 1]:\n",
    "            return False\n",
    "    return True\n",
    "print(is_in_alphabetical_Order(\"abc\"))\n",
    "print(is_in_alphabetical_Order(\"edabit\"))\n",
    "print(is_in_alphabetical_Order(\"123\"))\n",
    "print(is_in_alphabetical_Order(\"xyzz\"))\n",
    "\n",
    "************************Understand it!......"
   ]
  },
  {
   "cell_type": "code",
   "execution_count": null,
   "id": "a17ef4ae",
   "metadata": {},
   "outputs": [],
   "source": []
  }
 ],
 "metadata": {
  "kernelspec": {
   "display_name": "Python 3 (ipykernel)",
   "language": "python",
   "name": "python3"
  },
  "language_info": {
   "codemirror_mode": {
    "name": "ipython",
    "version": 3
   },
   "file_extension": ".py",
   "mimetype": "text/x-python",
   "name": "python",
   "nbconvert_exporter": "python",
   "pygments_lexer": "ipython3",
   "version": "3.9.7"
  }
 },
 "nbformat": 4,
 "nbformat_minor": 5
}
