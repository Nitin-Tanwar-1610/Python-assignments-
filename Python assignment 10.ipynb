{
 "cells": [
  {
   "cell_type": "code",
   "execution_count": 5,
   "id": "382a85d4",
   "metadata": {},
   "outputs": [
    {
     "name": "stdout",
     "output_type": "stream",
     "text": [
      " Sum of all the elements of list is 34.\n"
     ]
    }
   ],
   "source": [
    "## Write a Python program to find sum of elements in list?\n",
    "\n",
    "list = [2, 4, 7, 9, 12]\n",
    "a = 0\n",
    "for i in list:\n",
    "    a += i\n",
    "print(f\" Sum of all the elements of list is {a}.\")\n"
   ]
  },
  {
   "cell_type": "code",
   "execution_count": 6,
   "id": "afc78fe1",
   "metadata": {},
   "outputs": [
    {
     "name": "stdout",
     "output_type": "stream",
     "text": [
      " Multiplication of all the elements of the list is 1890.\n"
     ]
    }
   ],
   "source": [
    "## Write a Python program to Multiply all numbers in the list?\n",
    "\n",
    "list = [3, 5, 9, 2, 7]\n",
    "a = 1\n",
    "for i in list:\n",
    "    a = a*i\n",
    "print(f\" Multiplication of all the elements of the list is {a}.\")\n"
   ]
  },
  {
   "cell_type": "code",
   "execution_count": 15,
   "id": "cc327801",
   "metadata": {},
   "outputs": [
    {
     "name": "stdout",
     "output_type": "stream",
     "text": [
      "The smallest value in the list is 5.\n"
     ]
    }
   ],
   "source": [
    "## Write a Python program to find smallest number in a list?\n",
    "\n",
    "list = [9, 6, 12, 5, 23]\n",
    "a = min(list)\n",
    "print(f\"The smallest value in the list is {a}.\")\n"
   ]
  },
  {
   "cell_type": "code",
   "execution_count": 41,
   "id": "ac5fac11",
   "metadata": {},
   "outputs": [
    {
     "name": "stdout",
     "output_type": "stream",
     "text": [
      "[5, 6, 9, 12, 23]\n",
      "The smallest value in the list is 5.\n"
     ]
    }
   ],
   "source": [
    "## Write a Python program to find smallest number in a list?\n",
    "\n",
    "list = [9, 6, 12, 5, 23]\n",
    "list.sort()\n",
    "print(list)\n",
    "print(f\"The smallest value in the list is {list[0]}.\")"
   ]
  },
  {
   "cell_type": "code",
   "execution_count": 16,
   "id": "d2826198",
   "metadata": {},
   "outputs": [
    {
     "name": "stdout",
     "output_type": "stream",
     "text": [
      "The greatest value in the list is 85.\n"
     ]
    }
   ],
   "source": [
    "## Write a Python program to find largest number in a list?\n",
    "\n",
    "list = [19, 26, 62, 85, 43]\n",
    "a = max(list)\n",
    "print(f\"The greatest value in the list is {a}.\")\n",
    "\n"
   ]
  },
  {
   "cell_type": "code",
   "execution_count": 40,
   "id": "8a7b597e",
   "metadata": {},
   "outputs": [
    {
     "name": "stdout",
     "output_type": "stream",
     "text": [
      "[19, 26, 43, 62, 85]\n",
      "The greatest value in the list is 85.\n"
     ]
    }
   ],
   "source": [
    "## Write a Python program to find largest number in a list?\n",
    "\n",
    "list = [19, 26, 62, 85, 43]\n",
    "list.sort()\n",
    "print(list)\n",
    "print(f\"The greatest value in the list is {list[-1]}.\")"
   ]
  },
  {
   "cell_type": "code",
   "execution_count": 38,
   "id": "f0bfabdd",
   "metadata": {},
   "outputs": [
    {
     "name": "stdout",
     "output_type": "stream",
     "text": [
      "[2, 4, 64, 76, 79, 89, 93]\n",
      "The second largest number in the list is 89.\n"
     ]
    }
   ],
   "source": [
    "## Write a Python program to find second largest number in a list?\n",
    "\n",
    "list = [2, 4, 76, 89, 64, 79, 93]\n",
    "list.sort()\n",
    "print(list)\n",
    "print(f\"The second largest number in the list is {list[-2]}.\")\n"
   ]
  },
  {
   "cell_type": "code",
   "execution_count": 47,
   "id": "327e8e8d",
   "metadata": {},
   "outputs": [
    {
     "name": "stdout",
     "output_type": "stream",
     "text": [
      "The value of n = 5\n",
      "[3, 6, 23, 32, 53, 88, 89]\n",
      "The 5th largest element in the list is 53.\n"
     ]
    }
   ],
   "source": [
    "## Write a Python program to find nth largest elements from a list?\n",
    "\n",
    "n = int(input(\"The value of n = \"))\n",
    "list = [32, 6, 88, 3, 23, 89, 53]\n",
    "list.sort()\n",
    "print(list)\n",
    "print(f\"The {n}th largest element in the list is {list[n-1]}.\")\n"
   ]
  },
  {
   "cell_type": "code",
   "execution_count": 51,
   "id": "dcd8b9ef",
   "metadata": {},
   "outputs": [
    {
     "name": "stdout",
     "output_type": "stream",
     "text": [
      "[42, 56, 98, 12]\n"
     ]
    }
   ],
   "source": [
    "## Write a Python program to print even numbers in a list?\n",
    "\n",
    "l1 = [23, 42, 56, 79, 75, 98, 29, 12]\n",
    "l2 = []\n",
    "for i in l1:\n",
    "    if i%2 == 0:\n",
    "        l2.append(i)\n",
    "    else:\n",
    "        continue\n",
    "print(l2)\n",
    "        "
   ]
  },
  {
   "cell_type": "code",
   "execution_count": 68,
   "id": "cf05faf0",
   "metadata": {},
   "outputs": [
    {
     "name": "stdout",
     "output_type": "stream",
     "text": [
      "[43, 39, 91]\n"
     ]
    }
   ],
   "source": [
    "## Write a Python program to print odd numbers in a List?\n",
    "l1 = [12, 43, 39, 84, 91, 78]\n",
    "l2 = []\n",
    "for i in l1:\n",
    "    if i%2 != 0:\n",
    "        l2.append(i)\n",
    "    else:\n",
    "        continue\n",
    "print(l2)\n"
   ]
  },
  {
   "cell_type": "code",
   "execution_count": 63,
   "id": "084c2a96",
   "metadata": {},
   "outputs": [
    {
     "name": "stdout",
     "output_type": "stream",
     "text": [
      "[12, 34, 56, 'fan', [2, 3, 6], 23, 'ring']\n"
     ]
    }
   ],
   "source": [
    "## Write a Python program to Remove empty List from List?\n",
    "\n",
    "list = [12, 34, 56, \"fan\", [], [2, 3, 6], [], 23, [], \"ring\"]\n",
    "for i in list:\n",
    "    if i == []:\n",
    "        list.remove([])\n",
    "print(list)\n"
   ]
  },
  {
   "cell_type": "code",
   "execution_count": 69,
   "id": "288ffb21",
   "metadata": {},
   "outputs": [
    {
     "name": "stdout",
     "output_type": "stream",
     "text": [
      " Original list is [2, 4, 5, 8, 9].\n",
      " Cloned list is [2, 4, 5, 8, 9].\n"
     ]
    }
   ],
   "source": [
    "## Write a Python program to Cloning or Copying a list?\n",
    "\n",
    "l1 = [2, 4, 5, 8, 9]\n",
    "l2 = []\n",
    "for i in l1:\n",
    "    l2.append(i)\n",
    "print(f\" Original list is {l1}.\")\n",
    "print(f\" Cloned list is {l2}.\")\n"
   ]
  },
  {
   "cell_type": "code",
   "execution_count": 80,
   "id": "80c0917d",
   "metadata": {},
   "outputs": [
    {
     "name": "stdout",
     "output_type": "stream",
     "text": [
      "count the occurrence of: 21\n",
      " The count of occurrence of 21 in list is 4.\n"
     ]
    }
   ],
   "source": [
    "## Write a Python program to Count occurrences of an element in a list?\n",
    "\n",
    "l1 = [21, 34, 61, 21, 98, 34, 21, 12, 21, 34, 87]\n",
    "l2 = []\n",
    "a = int(input(\"count the occurrence of: \"))\n",
    "for i in l1:\n",
    "    if i == a:\n",
    "        l2.append(i)\n",
    "print(f\" The count of occurrence of {a} in list is {l2.count(a)}.\")\n",
    "        "
   ]
  }
 ],
 "metadata": {
  "kernelspec": {
   "display_name": "Python 3 (ipykernel)",
   "language": "python",
   "name": "python3"
  },
  "language_info": {
   "codemirror_mode": {
    "name": "ipython",
    "version": 3
   },
   "file_extension": ".py",
   "mimetype": "text/x-python",
   "name": "python",
   "nbconvert_exporter": "python",
   "pygments_lexer": "ipython3",
   "version": "3.9.7"
  }
 },
 "nbformat": 4,
 "nbformat_minor": 5
}
