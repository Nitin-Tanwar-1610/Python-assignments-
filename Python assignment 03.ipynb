{
 "cells": [
  {
   "cell_type": "code",
   "execution_count": 7,
   "id": "1d5d66fb",
   "metadata": {},
   "outputs": [
    {
     "name": "stdout",
     "output_type": "stream",
     "text": [
      "Enter a number: -23\n",
      "Provided number is a negative number.\n"
     ]
    }
   ],
   "source": [
    "## Write a Python Program to Check if a Number is Positive, Negative or Zero?\n",
    "\n",
    "a = int(input(\"Enter a number: \"))\n",
    "if a<0:\n",
    "    print(\"Provided number is a negative number.\")\n",
    "elif a>0:\n",
    "    print(\"Provided number is a positive number.\")\n",
    "else:\n",
    "    print(\"Provided number is equal to zero.\")"
   ]
  },
  {
   "cell_type": "code",
   "execution_count": 8,
   "id": "591d559a",
   "metadata": {},
   "outputs": [
    {
     "name": "stdout",
     "output_type": "stream",
     "text": [
      "Enter a number: 28\n",
      "Provided number is an even number.\n"
     ]
    }
   ],
   "source": [
    "## Write a Python Program to Check if a Number is Odd or Even?\n",
    "\n",
    "a = int(input(\"Enter a number: \"))\n",
    "if a%2 == 0:\n",
    "    print(\"Provided number is an even number.\")\n",
    "else:\n",
    "    print(\"Provided number is an odd number.\")\n",
    "    "
   ]
  },
  {
   "cell_type": "code",
   "execution_count": 5,
   "id": "7e67cde4",
   "metadata": {},
   "outputs": [
    {
     "name": "stdout",
     "output_type": "stream",
     "text": [
      "Enter a year: 2100\n",
      "2100 is not a leap year\n"
     ]
    }
   ],
   "source": [
    "## Write a Python Program to Check Leap Year?\n",
    "\n",
    "year = int(input(\"Enter a year: \"))\n",
    "if (year%400 == 0) and (year%100 == 0):\n",
    "    print(\"{0} is a leap year\".format(year))\n",
    "elif (year%4 == 0) and (year%100 != 0):\n",
    "    print(\"{0} is a leap year\".format(year))\n",
    "else:\n",
    "    print(\"{0} is not a leap year\".format(year))\n",
    "    "
   ]
  },
  {
   "cell_type": "code",
   "execution_count": 17,
   "id": "da123c46",
   "metadata": {},
   "outputs": [
    {
     "name": "stdout",
     "output_type": "stream",
     "text": [
      "Enter a number: 31\n",
      "Provided number is a prime number.\n"
     ]
    }
   ],
   "source": [
    "## Write a Python Program to Check Prime Number?\n",
    "\n",
    "n = int(input(\"Enter a number: \"))\n",
    "for i in range(2,n):\n",
    "    if n % i == 0:\n",
    "        print(\"Provided number is not a prime number.\")\n",
    "        break\n",
    "else:\n",
    "    print(\"Provided number is a prime number.\")\n"
   ]
  },
  {
   "cell_type": "code",
   "execution_count": 22,
   "id": "281ef05f",
   "metadata": {},
   "outputs": [
    {
     "name": "stdout",
     "output_type": "stream",
     "text": [
      "[53, 59, 61, 67, 71, 73, 79, 83, 89, 97]\n"
     ]
    }
   ],
   "source": [
    "## Write a Python Program to Print all Prime Numbers in an Interval of 50-100?\n",
    "\n",
    "list = []\n",
    "for x in range(50,101):\n",
    "    for i in range(2,x):\n",
    "        if x%i == 0:\n",
    "            break\n",
    "    else:\n",
    "        list.append(x)\n",
    "print(list)\n"
   ]
  }
 ],
 "metadata": {
  "kernelspec": {
   "display_name": "Python 3 (ipykernel)",
   "language": "python",
   "name": "python3"
  },
  "language_info": {
   "codemirror_mode": {
    "name": "ipython",
    "version": 3
   },
   "file_extension": ".py",
   "mimetype": "text/x-python",
   "name": "python",
   "nbconvert_exporter": "python",
   "pygments_lexer": "ipython3",
   "version": "3.9.7"
  }
 },
 "nbformat": 4,
 "nbformat_minor": 5
}
