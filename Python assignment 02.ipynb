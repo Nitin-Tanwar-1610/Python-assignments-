{
 "cells": [
  {
   "cell_type": "code",
   "execution_count": 4,
   "id": "bf40740f",
   "metadata": {},
   "outputs": [
    {
     "name": "stdout",
     "output_type": "stream",
     "text": [
      "Enter the distance in kilometers: 20\n",
      "20 kilometers is equal to 12.42742 miles.\n"
     ]
    }
   ],
   "source": [
    "## Write a Python program to convert kilometers to miles?\n",
    "Km = int(input(\"Enter the distance in kilometers: \"))\n",
    "Miles = 0.621371 * Km\n",
    "print(f\"{Km} kilometers is equal to {Miles} miles.\")\n"
   ]
  },
  {
   "cell_type": "code",
   "execution_count": 5,
   "id": "d2ec2e3b",
   "metadata": {},
   "outputs": [
    {
     "name": "stdout",
     "output_type": "stream",
     "text": [
      "Enter the temperature in degree celcius: 58\n",
      " 58 degree celcius is equal to 136.4 degree farenheit.\n"
     ]
    }
   ],
   "source": [
    "## Write a Python program to convert Celcius to Fahrenheit?\n",
    "celcius = int(input(\"Enter the temperature in degree celcius: \"))\n",
    "farenheit = (9/5)* celcius + 32\n",
    "print(f\" {celcius} degree celcius is equal to {farenheit} degree farenheit.\")"
   ]
  },
  {
   "cell_type": "code",
   "execution_count": 8,
   "id": "8c08d787",
   "metadata": {},
   "outputs": [
    {
     "name": "stdout",
     "output_type": "stream",
     "text": [
      "Enter current year: 2022\n",
      "Enter current month: 2\n",
      "   February 2022\n",
      "Mo Tu We Th Fr Sa Su\n",
      "    1  2  3  4  5  6\n",
      " 7  8  9 10 11 12 13\n",
      "14 15 16 17 18 19 20\n",
      "21 22 23 24 25 26 27\n",
      "28\n",
      "\n"
     ]
    }
   ],
   "source": [
    "## Write a Python program to display calendar?\n",
    "import calendar\n",
    "yy = int(input(\"Enter current year: \"))\n",
    "mm = int(input(\"Enter current month: \"))\n",
    "print(calendar.month(yy, mm))"
   ]
  },
  {
   "cell_type": "code",
   "execution_count": 29,
   "id": "5a8ca84e",
   "metadata": {},
   "outputs": [
    {
     "name": "stdout",
     "output_type": "stream",
     "text": [
      "Enter the value of a: 1\n",
      "Enter the value of b: 5\n",
      "Enter the value of c: 6\n",
      " Solutions for given quadratic equation are (-2+0j) and (-3+0j)\n"
     ]
    }
   ],
   "source": [
    "## Write a Python program to solve quadratic equation?\n",
    "import cmath\n",
    "a = int(input(\"Enter the value of a: \"))\n",
    "b = int(input(\"Enter the value of b: \"))\n",
    "c = int(input(\"Enter the value of c: \"))\n",
    "des = (b**2) - (4*a*c)\n",
    "x1 = (-b + cmath.sqrt(des))/(2*a)\n",
    "x2 = (-b - cmath.sqrt(des))/(2*a)\n",
    "print(f\" Solutions for given quadratic equation are {x1} and {x2}\")\n"
   ]
  },
  {
   "cell_type": "code",
   "execution_count": 31,
   "id": "af64c755",
   "metadata": {},
   "outputs": [
    {
     "name": "stdout",
     "output_type": "stream",
     "text": [
      "a = 7\n",
      "b = 3\n"
     ]
    }
   ],
   "source": [
    "## Write a python program to swap two variables without using temp variable ?\n",
    "a = 3\n",
    "b = 7\n",
    "a,b = b,a\n",
    "print(f\"a = {a}\")\n",
    "print(f\"b = {b}\")\n"
   ]
  }
 ],
 "metadata": {
  "kernelspec": {
   "display_name": "Python 3 (ipykernel)",
   "language": "python",
   "name": "python3"
  },
  "language_info": {
   "codemirror_mode": {
    "name": "ipython",
    "version": 3
   },
   "file_extension": ".py",
   "mimetype": "text/x-python",
   "name": "python",
   "nbconvert_exporter": "python",
   "pygments_lexer": "ipython3",
   "version": "3.9.7"
  }
 },
 "nbformat": 4,
 "nbformat_minor": 5
}
